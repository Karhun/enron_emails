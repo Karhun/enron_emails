{
 "cells": [
  {
   "cell_type": "markdown",
   "metadata": {},
   "source": [
    "## Enron Email Dev Challenge project\n",
    "Public dataset Enron Emails, https://www.cs.cmu.edu/~./enron/. Dataset version May 7, 2015.\n",
    "\n",
    "By Anette Karhu\n",
    "\n",
    "### Task 2 outline\n",
    "\n",
    "Calculate the average number of emails received per day per employee per day of week (monday, tuesday, etc.).\n",
    "An employee is here defined as a person whos shortened name appears on the folder names on maildir, for example taylor-m.\n",
    "\n",
    "The result should be a CSV file that contains three columns (with header row included):\n",
    "\n",
    "employee: the shortname of the employee\n",
    "day_of_week: day of week is a number 0-6, where 0 is monday, 1 tuesday etc\n",
    "avg_count: average number of emails received on the corresponding day of week by the corresponding employee"
   ]
  },
  {
   "cell_type": "code",
   "execution_count": 4,
   "metadata": {},
   "outputs": [],
   "source": [
    "from email.parser import BytesParser, Parser, BytesHeaderParser\n",
    "from email.policy import default\n",
    "import pandas as pd\n",
    "import os\n",
    "import csv\n",
    "import re\n",
    "from pathlib import Path\n",
    "import time"
   ]
  },
  {
   "cell_type": "code",
   "execution_count": 10,
   "metadata": {},
   "outputs": [],
   "source": [
    "class Enron_emails:\n",
    "    '''\n",
    "    A class where all users all emails amount per week day are counted into a csv.\n",
    "    '''\n",
    "    def __init__(self, root_directory):\n",
    "        '''\n",
    "        Initialize with root directory of where the enron emails are located.\n",
    "        '''\n",
    "        self.root_directory = root_directory\n",
    "    \n",
    "    def all_files(self):\n",
    "        '''\n",
    "        List of paths to all files for all users.\n",
    "        Used for reading email data from all users and all folders.\n",
    "        '''\n",
    "        all_dirs = [(os.path.join(root,file)) for root,dirs,files in os.walk(self.root_directory) for file in files]\n",
    "        return all_dirs\n",
    "\n",
    "\n",
    "    def dates_parsing(self, file_path):\n",
    "        '''\n",
    "        Parse week day from all emails headers.\n",
    "        Change weekdays to numbers, from 0-6, 0=Monday, 6=Sunday etc.\n",
    "        Save sender and week day into csv.\n",
    "        '''\n",
    "        sender_receiver_list =[]\n",
    "        i = 0   \n",
    "        for index, mail in enumerate(self.all_files()):\n",
    "            i += 1\n",
    "            if i == 10:\n",
    "                break\n",
    "            with open(mail, 'rb') as fp:    \n",
    "                email = BytesHeaderParser().parse(fp)\n",
    "                date = format(email['Date'])\n",
    "                weekdays = date.split(',' )[0]\n",
    "                days_as_num = time.strptime(weekdays, '%a').tm_wday\n",
    "    #             print(weekdays, days_as_num)\n",
    "    #             print(weekdays, type(weekdays))\n",
    "                folder_names = Path(mail).parts\n",
    "                usernames = os.listdir(self.root_directory)\n",
    "                user_day_list = [(username,days_as_num) for folder_name in folder_names for username in usernames if username in folder_name]\n",
    "                print(user_day_list)\n",
    "            # TODO: count emails per day per person.\n",
    "            # TODO: write to csv.\n",
    "    #         csv_file_path = os.path.join(file_path, 'emails_sent_average_per_weekday.csv')\n",
    "    #         csv_writer = csv.writer(open(csv_file_path, 'w', newline='', encoding=\"utf-8\"))\n",
    "    #         csv_writer.writerows(user_day_list)\n",
    "        return\n"
   ]
  },
  {
   "cell_type": "code",
   "execution_count": 12,
   "metadata": {},
   "outputs": [
    {
     "name": "stdout",
     "output_type": "stream",
     "text": [
      "[('allen-p', 0)]\n",
      "[('allen-p', 0)]\n",
      "[('allen-p', 3)]\n",
      "[('allen-p', 3)]\n",
      "[('allen-p', 2)]\n",
      "[('allen-p', 1)]\n",
      "[('allen-p', 1)]\n",
      "[('allen-p', 1)]\n",
      "[('allen-p', 1)]\n",
      "None\n"
     ]
    }
   ],
   "source": [
    "root_for_files = Enron_emails(r'C:\\Users\\Anette\\Documents\\Enron_Emails_project\\enron_emails\\maildir')\n",
    "print(Enron_emails.dates_parsing(root_for_files, r'C:\\Users\\Anette\\Documents\\enron_emails'))\n"
   ]
  },
  {
   "cell_type": "code",
   "execution_count": null,
   "metadata": {},
   "outputs": [],
   "source": []
  }
 ],
 "metadata": {
  "kernelspec": {
   "display_name": "Python 3",
   "language": "python",
   "name": "python3"
  },
  "language_info": {
   "codemirror_mode": {
    "name": "ipython",
    "version": 3
   },
   "file_extension": ".py",
   "mimetype": "text/x-python",
   "name": "python",
   "nbconvert_exporter": "python",
   "pygments_lexer": "ipython3",
   "version": "3.7.3"
  }
 },
 "nbformat": 4,
 "nbformat_minor": 4
}
