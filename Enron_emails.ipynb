{
 "cells": [
  {
   "cell_type": "markdown",
   "metadata": {},
   "source": [
    "# Enron Emails dev challenge project\n",
    "\n",
    "Public dataset Enron Emails, https://www.cs.cmu.edu/~./enron/.\n",
    "Dataset version May 7, 2015.\n",
    "\n",
    "By Anette Karhu\n",
    "\n",
    "## Task outline\n",
    "### 1) Calculate how many emails were sent from each sender address to each recipient.\n",
    "The result should be a CSV file that contains three columns (with header row included):\n",
    "\n",
    "sender: the sending email address,\n",
    "recipient: the recipient email address\n",
    "count: number of emails sent from sender to recipient\n",
    "If an email has multiple recipients, CC's or BCC's, count the email as it would have been sent to each recipient individually.\n",
    "\n",
    "### 2) Calculate the average number of emails received per day per employee per day of week (monday, tuesday, etc.).\n",
    "An employee is here defined as a person whos shortened name appears on the folder names on maildir, for example taylor-m.\n",
    "\n",
    "The result should be a CSV file that contains three columns (with header row included):\n",
    "\n",
    "employee: the shortname of the employee\n",
    "day_of_week: day of week is a number 0-6, where 0 is monday, 1 tuesday etc\n",
    "avg_count: average number of emails received on the corresponding day of week by the corresponding employee"
   ]
  },
  {
   "cell_type": "code",
   "execution_count": 6,
   "metadata": {},
   "outputs": [],
   "source": [
    "from email.parser import BytesParser, Parser, BytesHeaderParser\n",
    "from email.policy import default\n",
    "from email.utils import getaddresses, parseaddr\n",
    "import pandas as pd\n",
    "from email.message import EmailMessage\n",
    "import os\n",
    "from functools import partial\n",
    "import csv\n",
    "import re"
   ]
  },
  {
   "cell_type": "code",
   "execution_count": 12,
   "metadata": {},
   "outputs": [],
   "source": [
    "class Enron_emails:\n",
    "    '''\n",
    "    A class to handle enron email program.\n",
    "    '''\n",
    "    CHUNK_SIZE = 4096\n",
    "    def __init__(self, root_directory):\n",
    "        '''\n",
    "        Initialize with root directory of where the enron emails are located.\n",
    "        '''\n",
    "        self.root_directory = root_directory\n",
    "    \n",
    "    def users_directories_files(self):\n",
    "        '''\n",
    "        List of paths to all files for all users.\n",
    "        Used for reading email data from all users and all folders.\n",
    "        '''\n",
    "        all_dirs = [(os.path.join(root,file)) for root,dirs,files in os.walk(self.root_directory) for file in files]\n",
    "        return all_dirs\n",
    "\n",
    "\n",
    "    def load_parse_and_save(self, csv_file_path):\n",
    "        '''\n",
    "        Loads data, opens binary files, parses only needed items\n",
    "        makes a lists of receiver and sender email addresses.\n",
    "        Opens Mimo formatted emails and parses data with email library.\n",
    "        TODO: write in chunks? It takes with all data appr. 30mins to run this.\n",
    "        TODO: Parser not perfect, csv file contains unwanted marks.\n",
    "        '''\n",
    "        sender_receiver_list =[]\n",
    "        i = 0    \n",
    "        for index, mail in enumerate(self.users_directories_files()):\n",
    "            i += 1\n",
    "            if i == 300:\n",
    "                break\n",
    "            with open(mail, 'rb') as fp:             \n",
    "#                 data = fp.read()\n",
    "                email = BytesParser(policy=default).parse(fp)\n",
    "#                 print(getaddresses(email.get_all('to', [])))\n",
    "#                 email = BytesHeaderParser().parsebytes(data.as_string())\n",
    "                sender = format(email['from'])\n",
    "                if format(email['to']) != 'None':\n",
    "                    receiver = format(email['to'])\n",
    "#                     print(receiver)\n",
    "                    sender_receiver_list.append((sender, receiver))\n",
    "                if format(email['cc']) != 'None':\n",
    "                    cc_receiver = format(email['cc']),\n",
    "                    sender_receiver_list.append((sender, cc_receiver))\n",
    "#                         print('cc', format(email['cc']))\n",
    "                if format(email['bcc']) != 'None':\n",
    "                    bcc_receiver = format(email['bcc']),\n",
    "                    sender_receiver_list.append((sender, bcc_receiver))\n",
    "#                         print('bcc', format(email['bcc']))\n",
    "#                     print(sender,receiver)\n",
    "#                     sender_receiver_list.append(tuple([sender, receiver]))\n",
    "#                 print(sender_receiver_list)\n",
    "        csv_writer = csv.writer(open(csv_file_path, 'w', encoding='utf-8', newline=''))\n",
    "        csv_writer.writerows(sender_receiver_list)\n",
    "        return\n",
    "    "
   ]
  },
  {
   "cell_type": "code",
   "execution_count": 13,
   "metadata": {},
   "outputs": [
    {
     "name": "stdout",
     "output_type": "stream",
     "text": [
      "None\n"
     ]
    }
   ],
   "source": [
    "# enron_test = Enron_emails( r'C:\\Users\\Anette\\Documents\\Enron_Emails_project\\enron_emails\\maildir\\allen-p')\n",
    "# # print(enron_test.list_root_files())\n",
    "\n",
    "enron_all_mails = Enron_emails(r'C:\\Users\\Anette\\Documents\\Enron_Emails_project\\enron_emails\\maildir')\n",
    "# print(Enron_emails.list_root_files(enron_all_mails))\n",
    "# print(Enron_emails.users_directories_files(enron_all_mails))\n",
    "print(Enron_emails.load_parse_and_save(enron_all_mails, r'C:\\Users\\Anette\\Documents\\enron_emails\\sender_receiver.csv'))\n",
    "# print(Enron_emails.clean_csv_data(enron_all_mails, r'C:\\Users\\Anette\\Documents\\enron_emails\\test.csv'))\n",
    "\n"
   ]
  },
  {
   "cell_type": "code",
   "execution_count": null,
   "metadata": {},
   "outputs": [],
   "source": [
    "# Let's try to open a small amount of data as the data size is over 2GB.\n",
    "\n",
    "#one folder for testing\n",
    "rootdir = r'C:\\Users\\Anette\\Documents\\Enron_Emails_project\\enron_emails\\maildir\\allen-p'\n",
    "# all files\n",
    "maindir = r'C:\\Users\\Anette\\Documents\\Enron_Emails_project\\enron_emails\\maildir'\n"
   ]
  },
  {
   "cell_type": "code",
   "execution_count": null,
   "metadata": {},
   "outputs": [],
   "source": [
    "# Testing, get all directories.\n",
    "\n",
    "# all_dirs =[]\n",
    "# for root,dirs,files in os.walk(maindir):\n",
    "# # #     print(root)\n",
    "# #     for d in dirs:\n",
    "# #         print(os.path.join(root,d))\n",
    "#     for file in files:\n",
    "#         all_dirs.append(os.path.join(root,f))\n",
    "        \n",
    "all_dirs = [(os.path.join(root,file)) for root,dirs,files in os.walk(maindir) for file in files]"
   ]
  },
  {
   "cell_type": "code",
   "execution_count": null,
   "metadata": {},
   "outputs": [],
   "source": [
    "len(all_dirs)\n",
    "all_dirs[8400]"
   ]
  },
  {
   "cell_type": "code",
   "execution_count": null,
   "metadata": {},
   "outputs": [],
   "source": [
    "# root file location for arnold j's sent emails\n",
    "arnolds_sent_mail_root = r'C:\\Users\\Anette\\Documents\\Enron_Emails_project\\enron_emails\\maildir\\arnold-j\\_sent_mail'\n",
    "\n",
    "file_names = [filename for filename in sorted(os.listdir(arnolds_sent_mail_root),key=len)]\n",
    "# print(file_names)\n",
    "\n",
    "sent_mails_dirs= [(arnolds_sent_mail_root + '\\\\' + dir_name) for dir_name in file_names]    \n",
    "print(sent_mails_dirs)"
   ]
  },
  {
   "cell_type": "code",
   "execution_count": null,
   "metadata": {},
   "outputs": [],
   "source": [
    "# Looping one senders (arnold j's) sent emails from file sent_items.\n",
    "# Making a dictionary of headers: from, to, cc, bcc\n",
    "# TODO: make dictionary in a loop, nested dictionary! joka riville jokaisesta\n",
    "# sähköpostista omat tiedot!\n",
    "# TODO: add email only if it does not exist in dictionary, or delete duplicates\n",
    "# TODO: change dictionary into pd.dataframe that can be transformed easily into csv format.\n",
    "\n",
    "\n",
    "receiver_list = []\n",
    "sender_list = []\n",
    "# Opens Mimo formatted emails and parses data with email library.\n",
    "# leaves out none/blank fields in to, cc, and bcc fields. \n",
    "for index, mail in enumerate(sent_mails_dirs):\n",
    "    with open(mail, 'rb') as fp:\n",
    "        headers = BytesParser(policy=default).parse(fp)\n",
    "        sender_list.append(format(headers['from']))\n",
    "        if format(headers['to']) != 'None':\n",
    "            receiver_list.append(format(headers['to']))\n",
    "        if format(headers['bcc']) != 'None':\n",
    "#             print(format(headers['bcc']))\n",
    "            receiver_list.append(format(headers['bcc']))\n",
    "        if format(headers['cc']) != 'None':\n",
    "#             print(format(headers['cc']))\n",
    "            receiver_list.append(format(headers['cc']))\n",
    "\n",
    "# Zip together as a list the two separate lists of sender and receiver(s)\n",
    "tuples= list(zip(sender_list, receiver_list))\n",
    "\n",
    "print(len(receiver_list), len(sender_list))\n",
    "\n",
    "# mutta, halutaanko kaikki sähköpostit mitä datassa on, vai vaan käyttäjän lähettämät\n",
    "# sähköpostiviestit??"
   ]
  },
  {
   "cell_type": "code",
   "execution_count": null,
   "metadata": {},
   "outputs": [],
   "source": [
    "# Create a dataframe \n",
    "dataframe = pd.DataFrame(tuples, columns=['sender', 'receiver'])\n",
    "dataframe\n"
   ]
  },
  {
   "cell_type": "code",
   "execution_count": null,
   "metadata": {},
   "outputs": [],
   "source": [
    "# split multiple receivers into rows, add column names again as they disappeared in \n",
    "# in the concat method, change the columns order back to original: sender,receiver format.\n",
    "splitted_receivers_df = pd.concat([pd.Series(row['sender'], row['receiver'].split(', ')) for _, row in dataframe.iterrows()]).reset_index()\n",
    "splitted_receivers_df.columns =['receiver', 'sender']\n",
    "splitted_receivers_df = splitted_receivers_df.reindex(columns=['sender', 'receiver'])\n",
    "splitted_receivers_df"
   ]
  },
  {
   "cell_type": "code",
   "execution_count": null,
   "metadata": {
    "scrolled": true
   },
   "outputs": [],
   "source": [
    "# Counts together how many times certain email address in mentioned in the list\n",
    "# of sended emails.\n",
    "counted_data = splitted_receivers_df.pivot_table(index=['sender', 'receiver'], aggfunc='size')\n",
    "counted_data = pd.DataFrame(counted_data)\n",
    "counted_data.rename(columns={0:'count'}, inplace=True)\n",
    "# print(counted_data.columns)\n",
    "counted_data"
   ]
  },
  {
   "cell_type": "code",
   "execution_count": null,
   "metadata": {},
   "outputs": [],
   "source": [
    "# Root file for csv files\n",
    "root_file_for_csv = r'C:\\Users\\Anette\\Documents\\enron_emails'\n",
    "\n",
    "# Write pd.dataframe into new scv file\n",
    "# emails_sent_totals to csv\n",
    "csv_file_root = os.path.join(root_file_for_csv, 'emails_sent_totals.csv') \n",
    "# print(csv_file_root)\n",
    "counted_data.to_csv(csv_file_root)"
   ]
  }
 ],
 "metadata": {
  "kernelspec": {
   "display_name": "Python 3",
   "language": "python",
   "name": "python3"
  },
  "language_info": {
   "codemirror_mode": {
    "name": "ipython",
    "version": 3
   },
   "file_extension": ".py",
   "mimetype": "text/x-python",
   "name": "python",
   "nbconvert_exporter": "python",
   "pygments_lexer": "ipython3",
   "version": "3.7.3"
  }
 },
 "nbformat": 4,
 "nbformat_minor": 2
}
